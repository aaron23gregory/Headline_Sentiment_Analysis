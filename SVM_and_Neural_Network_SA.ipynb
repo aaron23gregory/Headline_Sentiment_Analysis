{
 "cells": [
  {
   "cell_type": "code",
   "execution_count": 188,
   "id": "d78686ad",
   "metadata": {},
   "outputs": [],
   "source": [
    "#packages to import\n",
    "import nltk\n",
    "from nltk.tokenize import word_tokenize\n",
    "from nltk.stem.wordnet import WordNetLemmatizer\n",
    "import string\n",
    "import datasets\n",
    "import pandas as pd\n",
    "import numpy as np\n",
    "import matplotlib.pyplot as plt\n",
    "from sklearn.feature_extraction.text import CountVectorizer,TfidfVectorizer\n",
    "from sklearn.model_selection import cross_val_score, train_test_split, StratifiedKFold, GridSearchCV\n",
    "from sklearn.naive_bayes import MultinomialNB\n",
    "from sklearn import metrics\n",
    "from sklearn.metrics import plot_confusion_matrix\n",
    "from sklearn.svm import SVC\n",
    "import seaborn as sns\n",
    "from keras.preprocessing.text import Tokenizer\n",
    "from keras.preprocessing.sequence import pad_sequences\n",
    "from keras.layers import Embedding,LSTM,Dense,SpatialDropout1D\n",
    "from keras.models import Sequential\n",
    "from keras.initializers import Constant\n",
    "import warnings\n",
    "warnings.filterwarnings(\"ignore\")\n",
    "from tqdm import tqdm"
   ]
  },
  {
   "cell_type": "code",
   "execution_count": 2,
   "id": "c4061c77",
   "metadata": {},
   "outputs": [
    {
     "data": {
      "text/html": [
       "<div>\n",
       "<style scoped>\n",
       "    .dataframe tbody tr th:only-of-type {\n",
       "        vertical-align: middle;\n",
       "    }\n",
       "\n",
       "    .dataframe tbody tr th {\n",
       "        vertical-align: top;\n",
       "    }\n",
       "\n",
       "    .dataframe thead th {\n",
       "        text-align: right;\n",
       "    }\n",
       "</style>\n",
       "<table border=\"1\" class=\"dataframe\">\n",
       "  <thead>\n",
       "    <tr style=\"text-align: right;\">\n",
       "      <th></th>\n",
       "      <th>headline</th>\n",
       "      <th>topic</th>\n",
       "      <th>sentiment</th>\n",
       "    </tr>\n",
       "  </thead>\n",
       "  <tbody>\n",
       "    <tr>\n",
       "      <th>0</th>\n",
       "      <td>Michael Bennet Drops Out of the 2020 President...</td>\n",
       "      <td>Bennet</td>\n",
       "      <td>neutral</td>\n",
       "    </tr>\n",
       "    <tr>\n",
       "      <th>1</th>\n",
       "      <td>Bennet Ends 2020 Bid After Poor Showing in New...</td>\n",
       "      <td>Bennet</td>\n",
       "      <td>negative</td>\n",
       "    </tr>\n",
       "    <tr>\n",
       "      <th>2</th>\n",
       "      <td>Brad Parscale on Joe Biden leaving New Hampshi...</td>\n",
       "      <td>Biden</td>\n",
       "      <td>negative</td>\n",
       "    </tr>\n",
       "    <tr>\n",
       "      <th>3</th>\n",
       "      <td>Dana Perino on Joe Biden's decision to abandon...</td>\n",
       "      <td>Biden</td>\n",
       "      <td>neutral</td>\n",
       "    </tr>\n",
       "    <tr>\n",
       "      <th>4</th>\n",
       "      <td>Chris Wallace: Biden is 'mortally wounded' if ...</td>\n",
       "      <td>Biden</td>\n",
       "      <td>negative</td>\n",
       "    </tr>\n",
       "  </tbody>\n",
       "</table>\n",
       "</div>"
      ],
      "text/plain": [
       "                                            headline   topic sentiment\n",
       "0  Michael Bennet Drops Out of the 2020 President...  Bennet   neutral\n",
       "1  Bennet Ends 2020 Bid After Poor Showing in New...  Bennet  negative\n",
       "2  Brad Parscale on Joe Biden leaving New Hampshi...   Biden  negative\n",
       "3  Dana Perino on Joe Biden's decision to abandon...   Biden   neutral\n",
       "4  Chris Wallace: Biden is 'mortally wounded' if ...   Biden  negative"
      ]
     },
     "execution_count": 2,
     "metadata": {},
     "output_type": "execute_result"
    }
   ],
   "source": [
    "#Load Training Data \n",
    "df = pd.read_csv(\"Full_sentiment_dataset.csv\",encoding='latin-1', header =None,names= [\"headline\",\"topic\",\"drop\",\"sentiment\"],index_col=False)\n",
    "df = df.drop('drop', axis=1)   \n",
    "df=df.drop([4345])             #Removed once bad sample\n",
    "df.head()"
   ]
  },
  {
   "cell_type": "code",
   "execution_count": 27,
   "id": "534c3855",
   "metadata": {},
   "outputs": [
    {
     "data": {
      "text/html": [
       "<div>\n",
       "<style scoped>\n",
       "    .dataframe tbody tr th:only-of-type {\n",
       "        vertical-align: middle;\n",
       "    }\n",
       "\n",
       "    .dataframe tbody tr th {\n",
       "        vertical-align: top;\n",
       "    }\n",
       "\n",
       "    .dataframe thead th {\n",
       "        text-align: right;\n",
       "    }\n",
       "</style>\n",
       "<table border=\"1\" class=\"dataframe\">\n",
       "  <thead>\n",
       "    <tr style=\"text-align: right;\">\n",
       "      <th></th>\n",
       "      <th>Title</th>\n",
       "      <th>Headline</th>\n",
       "      <th>Source</th>\n",
       "      <th>Topic</th>\n",
       "      <th>PublishDate</th>\n",
       "      <th>SentimentTitle</th>\n",
       "      <th>SentimentHeadline</th>\n",
       "    </tr>\n",
       "  </thead>\n",
       "  <tbody>\n",
       "    <tr>\n",
       "      <th>0</th>\n",
       "      <td>Obama Lays Wreath at Arlington National Cemetery</td>\n",
       "      <td>Obama Lays Wreath at Arlington National Cemete...</td>\n",
       "      <td>USA TODAY</td>\n",
       "      <td>obama</td>\n",
       "      <td>2002-04-02 00:00:00</td>\n",
       "      <td>0.000000</td>\n",
       "      <td>-0.053300</td>\n",
       "    </tr>\n",
       "    <tr>\n",
       "      <th>1</th>\n",
       "      <td>A Look at the Health of the Chinese Economy</td>\n",
       "      <td>Tim Haywood, investment director business-unit...</td>\n",
       "      <td>Bloomberg</td>\n",
       "      <td>economy</td>\n",
       "      <td>2008-09-20 00:00:00</td>\n",
       "      <td>0.208333</td>\n",
       "      <td>-0.156386</td>\n",
       "    </tr>\n",
       "    <tr>\n",
       "      <th>2</th>\n",
       "      <td>Nouriel Roubini: Global Economy Not Back to 2008</td>\n",
       "      <td>Nouriel Roubini, NYU professor and chairman at...</td>\n",
       "      <td>Bloomberg</td>\n",
       "      <td>economy</td>\n",
       "      <td>2012-01-28 00:00:00</td>\n",
       "      <td>-0.425210</td>\n",
       "      <td>0.139754</td>\n",
       "    </tr>\n",
       "    <tr>\n",
       "      <th>3</th>\n",
       "      <td>Finland GDP Expands In Q4</td>\n",
       "      <td>Finland's economy expanded marginally in the t...</td>\n",
       "      <td>RTT News</td>\n",
       "      <td>economy</td>\n",
       "      <td>2015-03-01 00:06:00</td>\n",
       "      <td>0.000000</td>\n",
       "      <td>0.026064</td>\n",
       "    </tr>\n",
       "    <tr>\n",
       "      <th>4</th>\n",
       "      <td>Tourism, govt spending buoys Thai economy in J...</td>\n",
       "      <td>Tourism and public spending continued to boost...</td>\n",
       "      <td>The Nation - Thailand&amp;#39;s English news</td>\n",
       "      <td>economy</td>\n",
       "      <td>2015-03-01 00:11:00</td>\n",
       "      <td>0.000000</td>\n",
       "      <td>0.141084</td>\n",
       "    </tr>\n",
       "  </tbody>\n",
       "</table>\n",
       "</div>"
      ],
      "text/plain": [
       "                                               Title  \\\n",
       "0   Obama Lays Wreath at Arlington National Cemetery   \n",
       "1        A Look at the Health of the Chinese Economy   \n",
       "2   Nouriel Roubini: Global Economy Not Back to 2008   \n",
       "3                          Finland GDP Expands In Q4   \n",
       "4  Tourism, govt spending buoys Thai economy in J...   \n",
       "\n",
       "                                            Headline  \\\n",
       "0  Obama Lays Wreath at Arlington National Cemete...   \n",
       "1  Tim Haywood, investment director business-unit...   \n",
       "2  Nouriel Roubini, NYU professor and chairman at...   \n",
       "3  Finland's economy expanded marginally in the t...   \n",
       "4  Tourism and public spending continued to boost...   \n",
       "\n",
       "                                     Source    Topic          PublishDate  \\\n",
       "0                                 USA TODAY    obama  2002-04-02 00:00:00   \n",
       "1                                 Bloomberg  economy  2008-09-20 00:00:00   \n",
       "2                                 Bloomberg  economy  2012-01-28 00:00:00   \n",
       "3                                  RTT News  economy  2015-03-01 00:06:00   \n",
       "4  The Nation - Thailand&#39;s English news  economy  2015-03-01 00:11:00   \n",
       "\n",
       "   SentimentTitle  SentimentHeadline  \n",
       "0        0.000000          -0.053300  \n",
       "1        0.208333          -0.156386  \n",
       "2       -0.425210           0.139754  \n",
       "3        0.000000           0.026064  \n",
       "4        0.000000           0.141084  "
      ]
     },
     "execution_count": 27,
     "metadata": {},
     "output_type": "execute_result"
    }
   ],
   "source": [
    "#Load testing Data and remove unnecessary columns\n",
    "df_test = pd.read_csv(\"News_Final.csv\")\n",
    "df_test = df_test.drop(['IDLink','Facebook','GooglePlus','LinkedIn'], axis=1)\n",
    "df_test.head()"
   ]
  },
  {
   "cell_type": "code",
   "execution_count": 20,
   "id": "fc5627f5",
   "metadata": {},
   "outputs": [
    {
     "data": {
      "text/plain": [
       "Text(0, 0.5, 'Number of Articles')"
      ]
     },
     "execution_count": 20,
     "metadata": {},
     "output_type": "execute_result"
    },
    {
     "data": {
      "image/png": "[encoded data removed]",
      "text/plain": [
       "<Figure size 432x288 with 1 Axes>"
      ]
     },
     "metadata": {},
     "output_type": "display_data"
    }
   ],
   "source": [
    "#Histogram of training data\n",
    "sns.set_style(\"white\")\n",
    "sns.histplot(df[\"sentiment\"], color = \"c\")\n",
    "plt.title('Sentiment of Training Data', weight=\"bold\",size=20)\n",
    "plt.xlabel('Article Sentiment' ,weight=\"bold\",size=16)\n",
    "plt.ylabel('Number of Articles',weight=\"bold\",size=16)"
   ]
  },
  {
   "cell_type": "code",
   "execution_count": 28,
   "id": "1d452011",
   "metadata": {},
   "outputs": [],
   "source": [
    "#Get root words\n",
    "lemmatizer = WordNetLemmatizer()\n",
    "stopwords   = set(nltk.corpus.stopwords.words('english'))\n",
    "punctuation = string.punctuation\n",
    "\n",
    "def pos_tagger(nltk_tag):\n",
    "    if nltk_tag.startswith('J'):\n",
    "        return wordnet.ADJ\n",
    "    elif nltk_tag.startswith('V'):\n",
    "        return wordnet.VERB\n",
    "    elif nltk_tag.startswith('N'):\n",
    "        return wordnet.NOUN\n",
    "    elif nltk_tag.startswith('R'):\n",
    "        return wordnet.ADV\n",
    "    else:         \n",
    "        return None\n",
    "    \n",
    "def normalize(text):\n",
    "    for token in nltk.word_tokenize(text):\n",
    "        token = token.lower()\n",
    "        token = lemmatizer.lemmatize(token)\n",
    "        if token not in stopwords and token not in punctuation:\n",
    "            if token.isalpha():\n",
    "                yield token"
   ]
  },
  {
   "cell_type": "code",
   "execution_count": 29,
   "id": "de4c4ee9",
   "metadata": {},
   "outputs": [
    {
     "data": {
      "text/html": [
       "<div>\n",
       "<style scoped>\n",
       "    .dataframe tbody tr th:only-of-type {\n",
       "        vertical-align: middle;\n",
       "    }\n",
       "\n",
       "    .dataframe tbody tr th {\n",
       "        vertical-align: top;\n",
       "    }\n",
       "\n",
       "    .dataframe thead th {\n",
       "        text-align: right;\n",
       "    }\n",
       "</style>\n",
       "<table border=\"1\" class=\"dataframe\">\n",
       "  <thead>\n",
       "    <tr style=\"text-align: right;\">\n",
       "      <th></th>\n",
       "      <th>headline</th>\n",
       "      <th>topic</th>\n",
       "      <th>sentiment</th>\n",
       "      <th>clean_headlines</th>\n",
       "    </tr>\n",
       "  </thead>\n",
       "  <tbody>\n",
       "    <tr>\n",
       "      <th>0</th>\n",
       "      <td>Michael Bennet Drops Out of the 2020 President...</td>\n",
       "      <td>Bennet</td>\n",
       "      <td>neutral</td>\n",
       "      <td>michael bennet drop presidential race</td>\n",
       "    </tr>\n",
       "    <tr>\n",
       "      <th>1</th>\n",
       "      <td>Bennet Ends 2020 Bid After Poor Showing in New...</td>\n",
       "      <td>Bennet</td>\n",
       "      <td>negative</td>\n",
       "      <td>bennet end bid poor showing new hampshire</td>\n",
       "    </tr>\n",
       "    <tr>\n",
       "      <th>2</th>\n",
       "      <td>Brad Parscale on Joe Biden leaving New Hampshi...</td>\n",
       "      <td>Biden</td>\n",
       "      <td>negative</td>\n",
       "      <td>brad parscale joe biden leaving new hampshire ...</td>\n",
       "    </tr>\n",
       "    <tr>\n",
       "      <th>3</th>\n",
       "      <td>Dana Perino on Joe Biden's decision to abandon...</td>\n",
       "      <td>Biden</td>\n",
       "      <td>neutral</td>\n",
       "      <td>dana perino joe biden decision abandon new ham...</td>\n",
       "    </tr>\n",
       "    <tr>\n",
       "      <th>4</th>\n",
       "      <td>Chris Wallace: Biden is 'mortally wounded' if ...</td>\n",
       "      <td>Biden</td>\n",
       "      <td>negative</td>\n",
       "      <td>chris wallace biden wounded ha bad result new ...</td>\n",
       "    </tr>\n",
       "  </tbody>\n",
       "</table>\n",
       "</div>"
      ],
      "text/plain": [
       "                                            headline   topic sentiment  \\\n",
       "0  Michael Bennet Drops Out of the 2020 President...  Bennet   neutral   \n",
       "1  Bennet Ends 2020 Bid After Poor Showing in New...  Bennet  negative   \n",
       "2  Brad Parscale on Joe Biden leaving New Hampshi...   Biden  negative   \n",
       "3  Dana Perino on Joe Biden's decision to abandon...   Biden   neutral   \n",
       "4  Chris Wallace: Biden is 'mortally wounded' if ...   Biden  negative   \n",
       "\n",
       "                                     clean_headlines  \n",
       "0              michael bennet drop presidential race  \n",
       "1          bennet end bid poor showing new hampshire  \n",
       "2  brad parscale joe biden leaving new hampshire ...  \n",
       "3  dana perino joe biden decision abandon new ham...  \n",
       "4  chris wallace biden wounded ha bad result new ...  "
      ]
     },
     "execution_count": 29,
     "metadata": {},
     "output_type": "execute_result"
    }
   ],
   "source": [
    "df[\"clean_headlines\"] = \"\"\n",
    "for text in enumerate(df[\"headline\"]):\n",
    "    ind  = text[0]\n",
    "    text = text[1]\n",
    "    root_text = ' '.join(list(normalize(text)))\n",
    "    df[\"clean_headlines\"][ind]=root_text\n",
    "df.head()"
   ]
  },
  {
   "cell_type": "code",
   "execution_count": 322,
   "id": "177c8d1b",
   "metadata": {},
   "outputs": [
    {
     "name": "stdout",
     "output_type": "stream",
     "text": [
      "In Iowaâs Small Black Community, Little Love for the Caucuses or Joe Biden\n",
      "small black community little love caucus joe biden\n"
     ]
    }
   ],
   "source": [
    "num=49\n",
    "print(df[\"headline\"][num])\n",
    "print(df[\"clean_headlines\"][num])"
   ]
  },
  {
   "cell_type": "code",
   "execution_count": 153,
   "id": "4d1b829d",
   "metadata": {},
   "outputs": [],
   "source": [
    "#Create train test split\n",
    "y = df[\"sentiment\"]\n",
    "x = df[\"clean_headlines\"]\n",
    "X_train, X_test, y_train, y_test = train_test_split(x,y,random_state=23)"
   ]
  },
  {
   "cell_type": "code",
   "execution_count": 32,
   "id": "da45e02a",
   "metadata": {},
   "outputs": [
    {
     "name": "stdout",
     "output_type": "stream",
     "text": [
      "X train shape 4655\n",
      "X test shape 1552\n",
      "X shape 6207\n",
      "y shape 6207\n"
     ]
    }
   ],
   "source": [
    "print(\"X train shape\",X_train.shape[0])\n",
    "print(\"X test shape\",X_test.shape[0])\n",
    "print(\"X shape\",x.shape[0])\n",
    "print(\"y shape\",y.shape[0])"
   ]
  },
  {
   "cell_type": "code",
   "execution_count": 33,
   "id": "632c9f06",
   "metadata": {},
   "outputs": [
    {
     "name": "stderr",
     "output_type": "stream",
     "text": [
      "100%|██████████| 6207/6207 [00:00<00:00, 6415.44it/s]\n"
     ]
    },
    {
     "data": {
      "text/plain": [
       "<AxesSubplot:ylabel='Count'>"
      ]
     },
     "execution_count": 33,
     "metadata": {},
     "output_type": "execute_result"
    },
    {
     "data": {
      "image/png": "[encoded data removed]",
      "text/plain": [
       "<Figure size 432x288 with 1 Axes>"
      ]
     },
     "metadata": {},
     "output_type": "display_data"
    }
   ],
   "source": [
    "def create_corpus(df):\n",
    "    corpus=[]\n",
    "    for headline in tqdm(x):\n",
    "        words=[word.lower() for word in word_tokenize(headline) if((word.isalpha()==1) & (word not in stopwords))]\n",
    "        corpus.append(words)\n",
    "    return corpus\n",
    "corpus=create_corpus(x)\n",
    "maxlen=[]\n",
    "for headline in corpus:\n",
    "    maxlen.append(len(headline))\n",
    "sns.histplot(maxlen)"
   ]
  },
  {
   "cell_type": "code",
   "execution_count": 34,
   "id": "ecab205e",
   "metadata": {},
   "outputs": [
    {
     "name": "stdout",
     "output_type": "stream",
     "text": [
      "number customer one important parameter determining price electricity network\n",
      "['number', 'customer', 'one', 'important', 'parameter', 'determining', 'price', 'electricity', 'network']\n"
     ]
    }
   ],
   "source": [
    "#Example of lemmatization\n",
    "print(X_train[3003])\n",
    "print(list(normalize(X_train[3003])))"
   ]
  },
  {
   "cell_type": "code",
   "execution_count": 154,
   "id": "f280a6a1",
   "metadata": {},
   "outputs": [],
   "source": [
    "#TFIDF Vectorizer \n",
    "vectorizer = TfidfVectorizer()\n",
    "X_train_tfidf = vectorizer.fit_transform(X_train)\n",
    "x_test_tfidf = vectorizer.transform(X_test)"
   ]
  },
  {
   "cell_type": "code",
   "execution_count": 36,
   "id": "b92db1f7",
   "metadata": {},
   "outputs": [
    {
     "data": {
      "text/plain": [
       "300"
      ]
     },
     "execution_count": 36,
     "metadata": {},
     "output_type": "execute_result"
    }
   ],
   "source": [
    "#Word2Vec Transformation\n",
    "\n",
    "import gensim.downloader as api\n",
    "word2vec = api.load('word2vec-google-news-300')\n",
    "word2vec.vector_size"
   ]
  },
  {
   "cell_type": "code",
   "execution_count": 37,
   "id": "8a928c06",
   "metadata": {},
   "outputs": [
    {
     "data": {
      "text/plain": [
       "[('pickup_truck', 0.7816603183746338),\n",
       " ('trucks', 0.7529183626174927),\n",
       " ('dump_truck', 0.744109570980072),\n",
       " ('tractor_trailer', 0.7255718111991882),\n",
       " ('van', 0.7252801656723022),\n",
       " ('vehicle', 0.702707052230835),\n",
       " ('tanker_truck', 0.6915155053138733),\n",
       " ('tractor', 0.6907906532287598),\n",
       " ('Peterbilt_truck', 0.6825098991394043),\n",
       " ('car', 0.6735789775848389)]"
      ]
     },
     "execution_count": 37,
     "metadata": {},
     "output_type": "execute_result"
    }
   ],
   "source": [
    "#Example  that word2vec works\n",
    "word2vec.most_similar(\"truck\")"
   ]
  },
  {
   "cell_type": "code",
   "execution_count": 38,
   "id": "86b3be3d",
   "metadata": {},
   "outputs": [],
   "source": [
    "# remove out-of-vocabulary words\n",
    "# Use normalize to make a list of lematized words from headline \n",
    "def document_vector(word2vec_model, headline):\n",
    "    headline_lst = list(normalize(headline))\n",
    "    headline     = [word for word in headline_lst if word in word2vec.key_to_index]\n",
    "    return np.mean(word2vec_model[headline], axis=0)"
   ]
  },
  {
   "cell_type": "code",
   "execution_count": 247,
   "id": "e7b8ab75",
   "metadata": {},
   "outputs": [],
   "source": [
    "#Transform all headlines into an averaged vector\n",
    "headlines_w2v =[]\n",
    "count=0\n",
    "for headline in df[\"headline\"]:\n",
    "    if len(headline)>0:\n",
    "        headlines_w2v.append (document_vector (word2vec, headline))\n",
    "        count+=1\n",
    "    else:\n",
    "        print(count)\n",
    "headlines_w2v = np.array(headlines_w2v)"
   ]
  },
  {
   "cell_type": "code",
   "execution_count": 227,
   "id": "997b8faa",
   "metadata": {},
   "outputs": [],
   "source": [
    "X_train_wv, X_test_wv, y_train, y_test = train_test_split(headlines_w2v, y, random_state=23)"
   ]
  },
  {
   "cell_type": "markdown",
   "id": "1e1dc1be",
   "metadata": {},
   "source": [
    "#SVM Model"
   ]
  },
  {
   "cell_type": "code",
   "execution_count": 155,
   "id": "91af2d5f",
   "metadata": {},
   "outputs": [
    {
     "name": "stdout",
     "output_type": "stream",
     "text": [
      "Training set Metrics\n",
      "              precision    recall  f1-score   support\n",
      "\n",
      "    negative       0.87      0.74      0.80       865\n",
      "     neutral       0.85      0.97      0.90      2606\n",
      "    positive       0.94      0.73      0.82      1184\n",
      "\n",
      "    accuracy                           0.87      4655\n",
      "   macro avg       0.88      0.81      0.84      4655\n",
      "weighted avg       0.87      0.87      0.86      4655\n",
      "\n",
      "Test set Metrics\n",
      "              precision    recall  f1-score   support\n",
      "\n",
      "    negative       0.54      0.38      0.45       272\n",
      "     neutral       0.67      0.86      0.75       844\n",
      "    positive       0.69      0.43      0.53       436\n",
      "\n",
      "    accuracy                           0.66      1552\n",
      "   macro avg       0.63      0.56      0.58      1552\n",
      "weighted avg       0.65      0.66      0.64      1552\n",
      "\n",
      "Validation set Confusion Matrix\n",
      "[[104 146  22]\n",
      " [ 55 727  62]\n",
      " [ 34 214 188]]\n"
     ]
    }
   ],
   "source": [
    "svm = SVC(kernel = 'linear', C = 1)\n",
    "svm.fit(X_train_tfidf, y_train)\n",
    "pred_train = svm.predict(X_train_tfidf)\n",
    "pred_test  = svm.predict(x_test_tfidf)\n",
    "print(\"Training set Metrics\")\n",
    "print(metrics.classification_report(y_train, pred_train))\n",
    "print(\"Test set Metrics\")\n",
    "print(metrics.classification_report(y_test, pred_test))\n",
    "print(\"Validation set Confusion Matrix\")\n",
    "print(metrics.confusion_matrix(y_test, pred_test))"
   ]
  },
  {
   "cell_type": "code",
   "execution_count": 43,
   "id": "8a8f96dd",
   "metadata": {},
   "outputs": [
    {
     "data": {
      "text/plain": [
       "{'C': 100, 'kernel': 'rbf'}"
      ]
     },
     "execution_count": 43,
     "metadata": {},
     "output_type": "execute_result"
    }
   ],
   "source": [
    "svm = SVC()\n",
    "params = dict(C= [0.1, 10, 50, 100], kernel = ['linear', 'poly', 'rbf', 'sigmoid'])\n",
    "svm = GridSearchCV(estimator=svm, param_grid=params, n_jobs=-1)\n",
    "svm.fit(X_train_tfidf, y_train)\n",
    "svm.best_params_"
   ]
  },
  {
   "cell_type": "code",
   "execution_count": 44,
   "id": "3d2d9995",
   "metadata": {},
   "outputs": [
    {
     "name": "stdout",
     "output_type": "stream",
     "text": [
      "Training set Metrics\n",
      "              precision    recall  f1-score   support\n",
      "\n",
      "    negative       0.99      0.99      0.99       865\n",
      "     neutral       1.00      1.00      1.00      2606\n",
      "    positive       1.00      1.00      1.00      1184\n",
      "\n",
      "    accuracy                           1.00      4655\n",
      "   macro avg       1.00      1.00      1.00      4655\n",
      "weighted avg       1.00      1.00      1.00      4655\n",
      "\n",
      "Test set Metrics\n",
      "              precision    recall  f1-score   support\n",
      "\n",
      "    negative       0.52      0.34      0.41       272\n",
      "     neutral       0.67      0.88      0.76       844\n",
      "    positive       0.71      0.44      0.55       436\n",
      "\n",
      "    accuracy                           0.66      1552\n",
      "   macro avg       0.64      0.55      0.57      1552\n",
      "weighted avg       0.66      0.66      0.64      1552\n",
      "\n",
      "Validation set Confusion Matrix\n",
      "[[ 92 149  31]\n",
      " [ 53 745  46]\n",
      " [ 32 211 193]]\n"
     ]
    }
   ],
   "source": [
    "svm = SVC(kernel = 'rbf', C = 100)\n",
    "svm.fit(X_train_tfidf, y_train)\n",
    "pred_train = svm.predict(X_train_tfidf)\n",
    "pred_test  = svm.predict(x_test_tfidf)\n",
    "print(\"Training set Metrics\")\n",
    "print(metrics.classification_report(y_train, pred_train))\n",
    "print(\"Test set Metrics\")\n",
    "print(metrics.classification_report(y_test, pred_test))\n",
    "print(\"Validation set Confusion Matrix\")\n",
    "print(metrics.confusion_matrix(y_test, pred_test))"
   ]
  },
  {
   "cell_type": "markdown",
   "id": "b30e6ff4",
   "metadata": {},
   "source": [
    "SVM using word2vec embeddings"
   ]
  },
  {
   "cell_type": "code",
   "execution_count": 157,
   "id": "7201607b",
   "metadata": {},
   "outputs": [
    {
     "name": "stdout",
     "output_type": "stream",
     "text": [
      "Training set Metrics\n",
      "              precision    recall  f1-score   support\n",
      "\n",
      "    negative       0.69      0.58      0.63       865\n",
      "     neutral       0.74      0.89      0.81      2606\n",
      "    positive       0.72      0.48      0.58      1184\n",
      "\n",
      "    accuracy                           0.73      4655\n",
      "   macro avg       0.72      0.65      0.67      4655\n",
      "weighted avg       0.73      0.73      0.72      4655\n",
      "\n",
      "Test set Metrics\n",
      "              precision    recall  f1-score   support\n",
      "\n",
      "    negative       0.59      0.51      0.55       272\n",
      "     neutral       0.70      0.86      0.77       844\n",
      "    positive       0.68      0.42      0.52       436\n",
      "\n",
      "    accuracy                           0.68      1552\n",
      "   macro avg       0.65      0.60      0.61      1552\n",
      "weighted avg       0.67      0.68      0.66      1552\n",
      "\n",
      "Validation set Confusion Matrix\n",
      "[[140 104  28]\n",
      " [ 57 726  61]\n",
      " [ 40 211 185]]\n"
     ]
    }
   ],
   "source": [
    "svm = SVC(kernel = 'linear', C = 1)\n",
    "svm.fit(X_train_wv, y_train)\n",
    "pred_train = svm.predict(X_train_wv)\n",
    "pred_test  = svm.predict(X_test_wv)\n",
    "print(\"Training set Metrics\")\n",
    "print(metrics.classification_report(y_train, pred_train))\n",
    "print(\"Test set Metrics\")\n",
    "print(metrics.classification_report(y_test, pred_test))\n",
    "print(\"Validation set Confusion Matrix\")\n",
    "print(metrics.confusion_matrix(y_test, pred_test))"
   ]
  },
  {
   "cell_type": "code",
   "execution_count": 323,
   "id": "9b25ecce",
   "metadata": {},
   "outputs": [
    {
     "data": {
      "text/plain": [
       "{'C': 100, 'degree': 1}"
      ]
     },
     "execution_count": 323,
     "metadata": {},
     "output_type": "execute_result"
    }
   ],
   "source": [
    "svm = SVC()\n",
    "params = dict(C= [0.1, 10, 50, 100], kernel = ['linear', 'poly', 'rbf', 'sigmoid'])\n",
    "params = dict(C= [0.1, 10, 50, 100], degree = [1,2,3,4,5])\n",
    "svm = GridSearchCV(estimator=svm, param_grid=params, n_jobs=-1)\n",
    "svm.fit(X_train_tfidf, y_train)\n",
    "svm.best_params_"
   ]
  },
  {
   "cell_type": "code",
   "execution_count": 325,
   "id": "5f0666cd",
   "metadata": {},
   "outputs": [
    {
     "name": "stdout",
     "output_type": "stream",
     "text": [
      "Training set Metrics\n",
      "              precision    recall  f1-score   support\n",
      "\n",
      "    negative       0.99      0.99      0.99       865\n",
      "     neutral       1.00      1.00      1.00      2606\n",
      "    positive       1.00      0.99      1.00      1184\n",
      "\n",
      "    accuracy                           1.00      4655\n",
      "   macro avg       1.00      1.00      1.00      4655\n",
      "weighted avg       1.00      1.00      1.00      4655\n",
      "\n",
      "Test set Metrics\n",
      "              precision    recall  f1-score   support\n",
      "\n",
      "    negative       0.53      0.59      0.56       272\n",
      "     neutral       0.75      0.78      0.77       844\n",
      "    positive       0.66      0.55      0.60       436\n",
      "\n",
      "    accuracy                           0.68      1552\n",
      "   macro avg       0.64      0.64      0.64      1552\n",
      "weighted avg       0.68      0.68      0.68      1552\n",
      "\n",
      "Validation set Confusion Matrix\n",
      "[[160  83  29]\n",
      " [ 86 662  96]\n",
      " [ 57 139 240]]\n"
     ]
    }
   ],
   "source": [
    "svm = SVC(kernel = 'rbf', C = 100, degree=1,probability =True)\n",
    "svm.fit(X_train_wv, y_train)\n",
    "pred_train = svm.predict(X_train_wv)\n",
    "pred_test  = svm.predict(X_test_wv)\n",
    "print(\"Training set Metrics\")\n",
    "print(metrics.classification_report(y_train, pred_train))\n",
    "print(\"Test set Metrics\")\n",
    "print(metrics.classification_report(y_test, pred_test))\n",
    "print(\"Validation set Confusion Matrix\")\n",
    "print(metrics.confusion_matrix(y_test, pred_test))"
   ]
  },
  {
   "cell_type": "code",
   "execution_count": 233,
   "id": "7a5ea116",
   "metadata": {},
   "outputs": [
    {
     "data": {
      "image/png": "[encoded data removed]",
      "text/plain": [
       "<Figure size 432x288 with 1 Axes>"
      ]
     },
     "metadata": {},
     "output_type": "display_data"
    }
   ],
   "source": [
    "#Confusion matrix made pretty\n",
    "from sklearn.metrics import plot_confusion_matrix\n",
    "plot_confusion_matrix(svm, X_test_wv, y_test,colorbar=False,display_labels=[-1,0,1])  \n",
    "plt.show()"
   ]
  },
  {
   "cell_type": "code",
   "execution_count": 280,
   "id": "89d7a503",
   "metadata": {},
   "outputs": [],
   "source": [
    "news_headlines=[]\n",
    "count=0\n",
    "for headline in df_test[\"Title\"]:\n",
    "    if len(headline)>0:\n",
    "        count= count +1\n",
    "        try:\n",
    "            news_headlines.append (document_vector (word2vec, headline))\n",
    "        except:\n",
    "            news_headlines.append (np.zeros(300))"
   ]
  },
  {
   "cell_type": "code",
   "execution_count": 285,
   "id": "8528b1dc",
   "metadata": {},
   "outputs": [
    {
     "data": {
      "text/html": [
       "<div>\n",
       "<style scoped>\n",
       "    .dataframe tbody tr th:only-of-type {\n",
       "        vertical-align: middle;\n",
       "    }\n",
       "\n",
       "    .dataframe tbody tr th {\n",
       "        vertical-align: top;\n",
       "    }\n",
       "\n",
       "    .dataframe thead th {\n",
       "        text-align: right;\n",
       "    }\n",
       "</style>\n",
       "<table border=\"1\" class=\"dataframe\">\n",
       "  <thead>\n",
       "    <tr style=\"text-align: right;\">\n",
       "      <th></th>\n",
       "      <th>Title</th>\n",
       "      <th>Headline</th>\n",
       "      <th>Source</th>\n",
       "      <th>Topic</th>\n",
       "      <th>PublishDate</th>\n",
       "      <th>SentimentTitle</th>\n",
       "      <th>SentimentHeadline</th>\n",
       "      <th>lemmatized_headlines</th>\n",
       "      <th>Sentiment_Classification</th>\n",
       "    </tr>\n",
       "  </thead>\n",
       "  <tbody>\n",
       "    <tr>\n",
       "      <th>0</th>\n",
       "      <td>Obama Lays Wreath at Arlington National Cemetery</td>\n",
       "      <td>Obama Lays Wreath at Arlington National Cemete...</td>\n",
       "      <td>USA TODAY</td>\n",
       "      <td>obama</td>\n",
       "      <td>2002-04-02 00:00:00</td>\n",
       "      <td>0.000000</td>\n",
       "      <td>-0.053300</td>\n",
       "      <td></td>\n",
       "      <td>negative</td>\n",
       "    </tr>\n",
       "    <tr>\n",
       "      <th>1</th>\n",
       "      <td>A Look at the Health of the Chinese Economy</td>\n",
       "      <td>Tim Haywood, investment director business-unit...</td>\n",
       "      <td>Bloomberg</td>\n",
       "      <td>economy</td>\n",
       "      <td>2008-09-20 00:00:00</td>\n",
       "      <td>0.208333</td>\n",
       "      <td>-0.156386</td>\n",
       "      <td></td>\n",
       "      <td>neutral</td>\n",
       "    </tr>\n",
       "    <tr>\n",
       "      <th>2</th>\n",
       "      <td>Nouriel Roubini: Global Economy Not Back to 2008</td>\n",
       "      <td>Nouriel Roubini, NYU professor and chairman at...</td>\n",
       "      <td>Bloomberg</td>\n",
       "      <td>economy</td>\n",
       "      <td>2012-01-28 00:00:00</td>\n",
       "      <td>-0.425210</td>\n",
       "      <td>0.139754</td>\n",
       "      <td></td>\n",
       "      <td>neutral</td>\n",
       "    </tr>\n",
       "    <tr>\n",
       "      <th>3</th>\n",
       "      <td>Finland GDP Expands In Q4</td>\n",
       "      <td>Finland's economy expanded marginally in the t...</td>\n",
       "      <td>RTT News</td>\n",
       "      <td>economy</td>\n",
       "      <td>2015-03-01 00:06:00</td>\n",
       "      <td>0.000000</td>\n",
       "      <td>0.026064</td>\n",
       "      <td></td>\n",
       "      <td>neutral</td>\n",
       "    </tr>\n",
       "    <tr>\n",
       "      <th>4</th>\n",
       "      <td>Tourism, govt spending buoys Thai economy in J...</td>\n",
       "      <td>Tourism and public spending continued to boost...</td>\n",
       "      <td>The Nation - Thailand&amp;#39;s English news</td>\n",
       "      <td>economy</td>\n",
       "      <td>2015-03-01 00:11:00</td>\n",
       "      <td>0.000000</td>\n",
       "      <td>0.141084</td>\n",
       "      <td></td>\n",
       "      <td>neutral</td>\n",
       "    </tr>\n",
       "  </tbody>\n",
       "</table>\n",
       "</div>"
      ],
      "text/plain": [
       "                                               Title  \\\n",
       "0   Obama Lays Wreath at Arlington National Cemetery   \n",
       "1        A Look at the Health of the Chinese Economy   \n",
       "2   Nouriel Roubini: Global Economy Not Back to 2008   \n",
       "3                          Finland GDP Expands In Q4   \n",
       "4  Tourism, govt spending buoys Thai economy in J...   \n",
       "\n",
       "                                            Headline  \\\n",
       "0  Obama Lays Wreath at Arlington National Cemete...   \n",
       "1  Tim Haywood, investment director business-unit...   \n",
       "2  Nouriel Roubini, NYU professor and chairman at...   \n",
       "3  Finland's economy expanded marginally in the t...   \n",
       "4  Tourism and public spending continued to boost...   \n",
       "\n",
       "                                     Source    Topic          PublishDate  \\\n",
       "0                                 USA TODAY    obama  2002-04-02 00:00:00   \n",
       "1                                 Bloomberg  economy  2008-09-20 00:00:00   \n",
       "2                                 Bloomberg  economy  2012-01-28 00:00:00   \n",
       "3                                  RTT News  economy  2015-03-01 00:06:00   \n",
       "4  The Nation - Thailand&#39;s English news  economy  2015-03-01 00:11:00   \n",
       "\n",
       "   SentimentTitle  SentimentHeadline lemmatized_headlines  \\\n",
       "0        0.000000          -0.053300                        \n",
       "1        0.208333          -0.156386                        \n",
       "2       -0.425210           0.139754                        \n",
       "3        0.000000           0.026064                        \n",
       "4        0.000000           0.141084                        \n",
       "\n",
       "  Sentiment_Classification  \n",
       "0                 negative  \n",
       "1                  neutral  \n",
       "2                  neutral  \n",
       "3                  neutral  \n",
       "4                  neutral  "
      ]
     },
     "execution_count": 285,
     "metadata": {},
     "output_type": "execute_result"
    }
   ],
   "source": [
    "news_headlines=[]\n",
    "df_test[\"lemmatized_headlines\"] = \"\"\n",
    "for headline in df_test[\"Title\"]:\n",
    "    if len(headline)>0:\n",
    "        try:\n",
    "            news_headlines.append (document_vector (word2vec, headline))\n",
    "        except:\n",
    "            news_headlines.append (np.zeros(300))\n",
    "\n",
    "predic_sentiment = svm.predict(np.array(news_headlines))\n",
    "df_test['Sentiment_Classification'] = predic_sentiment.tolist()\n",
    "df_test.head()"
   ]
  },
  {
   "cell_type": "code",
   "execution_count": 292,
   "id": "a2560517",
   "metadata": {},
   "outputs": [
    {
     "data": {
      "text/html": [
       "<div>\n",
       "<style scoped>\n",
       "    .dataframe tbody tr th:only-of-type {\n",
       "        vertical-align: middle;\n",
       "    }\n",
       "\n",
       "    .dataframe tbody tr th {\n",
       "        vertical-align: top;\n",
       "    }\n",
       "\n",
       "    .dataframe thead th {\n",
       "        text-align: right;\n",
       "    }\n",
       "</style>\n",
       "<table border=\"1\" class=\"dataframe\">\n",
       "  <thead>\n",
       "    <tr style=\"text-align: right;\">\n",
       "      <th></th>\n",
       "      <th>Title</th>\n",
       "      <th>Headline</th>\n",
       "      <th>Source</th>\n",
       "      <th>Topic</th>\n",
       "      <th>PublishDate</th>\n",
       "      <th>SentimentTitle</th>\n",
       "      <th>SentimentHeadline</th>\n",
       "      <th>lemmatized_headlines</th>\n",
       "      <th>Sentiment_Classification</th>\n",
       "    </tr>\n",
       "  </thead>\n",
       "  <tbody>\n",
       "    <tr>\n",
       "      <th>0</th>\n",
       "      <td>Obama Lays Wreath at Arlington National Cemetery</td>\n",
       "      <td>Obama Lays Wreath at Arlington National Cemete...</td>\n",
       "      <td>USA TODAY</td>\n",
       "      <td>obama</td>\n",
       "      <td>2002-04-02 00:00:00</td>\n",
       "      <td>0.000000</td>\n",
       "      <td>-0.053300</td>\n",
       "      <td>obama lay wreath arlington national cemetery</td>\n",
       "      <td>negative</td>\n",
       "    </tr>\n",
       "    <tr>\n",
       "      <th>1</th>\n",
       "      <td>A Look at the Health of the Chinese Economy</td>\n",
       "      <td>Tim Haywood, investment director business-unit...</td>\n",
       "      <td>Bloomberg</td>\n",
       "      <td>economy</td>\n",
       "      <td>2008-09-20 00:00:00</td>\n",
       "      <td>0.208333</td>\n",
       "      <td>-0.156386</td>\n",
       "      <td>look health chinese economy</td>\n",
       "      <td>neutral</td>\n",
       "    </tr>\n",
       "    <tr>\n",
       "      <th>2</th>\n",
       "      <td>Nouriel Roubini: Global Economy Not Back to 2008</td>\n",
       "      <td>Nouriel Roubini, NYU professor and chairman at...</td>\n",
       "      <td>Bloomberg</td>\n",
       "      <td>economy</td>\n",
       "      <td>2012-01-28 00:00:00</td>\n",
       "      <td>-0.425210</td>\n",
       "      <td>0.139754</td>\n",
       "      <td>nouriel roubini global economy back</td>\n",
       "      <td>neutral</td>\n",
       "    </tr>\n",
       "    <tr>\n",
       "      <th>3</th>\n",
       "      <td>Finland GDP Expands In Q4</td>\n",
       "      <td>Finland's economy expanded marginally in the t...</td>\n",
       "      <td>RTT News</td>\n",
       "      <td>economy</td>\n",
       "      <td>2015-03-01 00:06:00</td>\n",
       "      <td>0.000000</td>\n",
       "      <td>0.026064</td>\n",
       "      <td>finland gdp expands</td>\n",
       "      <td>neutral</td>\n",
       "    </tr>\n",
       "    <tr>\n",
       "      <th>4</th>\n",
       "      <td>Tourism, govt spending buoys Thai economy in J...</td>\n",
       "      <td>Tourism and public spending continued to boost...</td>\n",
       "      <td>The Nation - Thailand&amp;#39;s English news</td>\n",
       "      <td>economy</td>\n",
       "      <td>2015-03-01 00:11:00</td>\n",
       "      <td>0.000000</td>\n",
       "      <td>0.141084</td>\n",
       "      <td>tourism govt spending buoy thai economy january</td>\n",
       "      <td>neutral</td>\n",
       "    </tr>\n",
       "  </tbody>\n",
       "</table>\n",
       "</div>"
      ],
      "text/plain": [
       "                                               Title  \\\n",
       "0   Obama Lays Wreath at Arlington National Cemetery   \n",
       "1        A Look at the Health of the Chinese Economy   \n",
       "2   Nouriel Roubini: Global Economy Not Back to 2008   \n",
       "3                          Finland GDP Expands In Q4   \n",
       "4  Tourism, govt spending buoys Thai economy in J...   \n",
       "\n",
       "                                            Headline  \\\n",
       "0  Obama Lays Wreath at Arlington National Cemete...   \n",
       "1  Tim Haywood, investment director business-unit...   \n",
       "2  Nouriel Roubini, NYU professor and chairman at...   \n",
       "3  Finland's economy expanded marginally in the t...   \n",
       "4  Tourism and public spending continued to boost...   \n",
       "\n",
       "                                     Source    Topic          PublishDate  \\\n",
       "0                                 USA TODAY    obama  2002-04-02 00:00:00   \n",
       "1                                 Bloomberg  economy  2008-09-20 00:00:00   \n",
       "2                                 Bloomberg  economy  2012-01-28 00:00:00   \n",
       "3                                  RTT News  economy  2015-03-01 00:06:00   \n",
       "4  The Nation - Thailand&#39;s English news  economy  2015-03-01 00:11:00   \n",
       "\n",
       "   SentimentTitle  SentimentHeadline  \\\n",
       "0        0.000000          -0.053300   \n",
       "1        0.208333          -0.156386   \n",
       "2       -0.425210           0.139754   \n",
       "3        0.000000           0.026064   \n",
       "4        0.000000           0.141084   \n",
       "\n",
       "                              lemmatized_headlines Sentiment_Classification  \n",
       "0     obama lay wreath arlington national cemetery                 negative  \n",
       "1                      look health chinese economy                  neutral  \n",
       "2              nouriel roubini global economy back                  neutral  \n",
       "3                              finland gdp expands                  neutral  \n",
       "4  tourism govt spending buoy thai economy january                  neutral  "
      ]
     },
     "execution_count": 292,
     "metadata": {},
     "output_type": "execute_result"
    }
   ],
   "source": [
    "for text in enumerate(df_test[\"Title\"]):\n",
    "    ind  = text[0]\n",
    "    text = text[1]\n",
    "    root_text = ' '.join(list(normalize(text)))\n",
    "    df_test[\"lemmatized_headlines\"][ind]=root_text\n",
    "df_test.head()"
   ]
  },
  {
   "cell_type": "code",
   "execution_count": 294,
   "id": "6ea921b4",
   "metadata": {},
   "outputs": [],
   "source": [
    "df_test.to_csv(\"sentiment_scores_news_headlines.csv\")"
   ]
  },
  {
   "cell_type": "code",
   "execution_count": 53,
   "id": "2b2c6497",
   "metadata": {},
   "outputs": [
    {
     "name": "stdout",
     "output_type": "stream",
     "text": [
      "Training set Metrics\n",
      "              precision    recall  f1-score   support\n",
      "\n",
      "    negative       0.99      1.00      0.99       865\n",
      "     neutral       1.00      1.00      1.00      2606\n",
      "    positive       1.00      1.00      1.00      1184\n",
      "\n",
      "    accuracy                           1.00      4655\n",
      "   macro avg       1.00      1.00      1.00      4655\n",
      "weighted avg       1.00      1.00      1.00      4655\n",
      "\n",
      "Test set Metrics\n",
      "              precision    recall  f1-score   support\n",
      "\n",
      "    negative       0.50      0.22      0.30       272\n",
      "     neutral       0.62      0.95      0.75       844\n",
      "    positive       0.68      0.23      0.34       436\n",
      "\n",
      "    accuracy                           0.62      1552\n",
      "   macro avg       0.60      0.46      0.46      1552\n",
      "weighted avg       0.62      0.62      0.56      1552\n",
      "\n",
      "Validation set Confusion Matrix\n",
      "[[ 59 179  34]\n",
      " [ 34 798  12]\n",
      " [ 25 311 100]]\n"
     ]
    }
   ],
   "source": [
    "#Random Forrest Classifier with word2vec embeddings\n",
    "from sklearn.ensemble import RandomForestClassifier\n",
    "rfc = RandomForestClassifier()\n",
    "rfc.fit(X_train_wv, y_train)\n",
    "pred_train = rfc.predict(X_train_wv)\n",
    "pred_test  = rfc.predict(X_test_wv)\n",
    "print(\"Training set Metrics\")\n",
    "print(metrics.classification_report(y_train, pred_train))\n",
    "print(\"Test set Metrics\")\n",
    "print(metrics.classification_report(y_test, pred_test))\n",
    "print(\"Validation set Confusion Matrix\")\n",
    "print(metrics.confusion_matrix(y_test, pred_test))"
   ]
  },
  {
   "cell_type": "code",
   "execution_count": 332,
   "id": "bb4d4be1",
   "metadata": {},
   "outputs": [
    {
     "name": "stdout",
     "output_type": "stream",
     "text": [
      "Training set Metrics\n",
      "              precision    recall  f1-score   support\n",
      "\n",
      "    negative       0.87      0.11      0.19       865\n",
      "     neutral       0.62      0.99      0.76      2606\n",
      "    positive       0.64      0.20      0.30      1184\n",
      "\n",
      "    accuracy                           0.62      4655\n",
      "   macro avg       0.71      0.43      0.42      4655\n",
      "weighted avg       0.67      0.62      0.54      4655\n",
      "\n",
      "Test set Metrics\n",
      "              precision    recall  f1-score   support\n",
      "\n",
      "    negative       0.55      0.04      0.08       272\n",
      "     neutral       0.58      0.98      0.73       844\n",
      "    positive       0.56      0.14      0.23       436\n",
      "\n",
      "    accuracy                           0.58      1552\n",
      "   macro avg       0.56      0.39      0.35      1552\n",
      "weighted avg       0.57      0.58      0.47      1552\n",
      "\n",
      "Validation set Confusion Matrix\n",
      "[[ 12 225  35]\n",
      " [  5 826  13]\n",
      " [  5 369  62]]\n"
     ]
    }
   ],
   "source": [
    "rfc = RandomForestClassifier(n_estimators=100, random_state=23, max_depth = 5, min_samples_split= 25)\n",
    "rfc.fit(X_train_wv, y_train)\n",
    "pred_train = rfc.predict(X_train_wv)\n",
    "pred_test  = rfc.predict(X_test_wv)\n",
    "print(\"Training set Metrics\")\n",
    "print(metrics.classification_report(y_train, pred_train))\n",
    "print(\"Test set Metrics\")\n",
    "print(metrics.classification_report(y_test, pred_test))\n",
    "print(\"Validation set Confusion Matrix\")\n",
    "print(metrics.confusion_matrix(y_test, pred_test))"
   ]
  },
  {
   "cell_type": "markdown",
   "id": "2ca0d5bb",
   "metadata": {},
   "source": [
    "Neural Network\n",
    "\n",
    "code modified from https://www.youtube.com/watch?v=8YsZXTpFRO0&list=PLD80i8An1OEHSai9cf-Ip-QReOVW76PlB&index=10&t=874s"
   ]
  },
  {
   "cell_type": "code",
   "execution_count": 200,
   "id": "25a3057a",
   "metadata": {},
   "outputs": [],
   "source": [
    "#Helper Function\n",
    "def neural_metrics(X_test,y_test):\n",
    "    predictions= model.predict(X_test)\n",
    "    matrix = metrics.confusion_matrix(y_test.argmax(axis=1), predictions.argmax(axis=1))\n",
    "    print(\"Confusion Matrix\")\n",
    "    print(matrix)\n",
    "    print(\"Test set Metrics\")\n",
    "    print(metrics.classification_report(y_test.argmax(axis=1), predictions.argmax(axis=1)))"
   ]
  },
  {
   "cell_type": "code",
   "execution_count": 164,
   "id": "f1120e10",
   "metadata": {},
   "outputs": [
    {
     "data": {
      "text/plain": [
       "array([[0., 1., 0.],\n",
       "       [1., 0., 0.],\n",
       "       [1., 0., 0.],\n",
       "       ...,\n",
       "       [1., 0., 0.],\n",
       "       [1., 0., 0.],\n",
       "       [1., 0., 0.]], dtype=float32)"
      ]
     },
     "execution_count": 164,
     "metadata": {},
     "output_type": "execute_result"
    }
   ],
   "source": [
    "from sklearn.preprocessing import LabelEncoder\n",
    "from keras.utils import np_utils\n",
    "from keras.preprocessing import text, sequence\n",
    "from keras.layers import Conv1D, MaxPooling1D, Flatten, Dropout, Bidirectional\n",
    "encoder = LabelEncoder()\n",
    "encoder.fit(y)\n",
    "encoded_y =encoder.transform(y)\n",
    "dummy_y = np_utils.to_categorical(encoded_y)\n",
    "dummy_y"
   ]
  },
  {
   "cell_type": "code",
   "execution_count": 336,
   "id": "07d9c9ee",
   "metadata": {},
   "outputs": [],
   "source": [
    "#Create train test split\n",
    "x = df[\"clean_headlines\"]\n",
    "X_train, X_test, y_train, y_test = train_test_split(x,dummy_y,random_state=23)"
   ]
  },
  {
   "cell_type": "code",
   "execution_count": 337,
   "id": "6bd19974",
   "metadata": {},
   "outputs": [],
   "source": [
    "tokenizer = Tokenizer()\n",
    "tokenizer.fit_on_texts(X_train)\n",
    "X_train = tokenizer.texts_to_sequences(X_train)\n",
    "X_test  = tokenizer.texts_to_sequences(X_test)\n",
    "\n",
    "X_train = sequence.pad_sequences(X_train, maxlen = 20)\n",
    "X_test  = sequence.pad_sequences(X_test , maxlen = 20)\n",
    "vocabWords = len(tokenizer.word_index)+1"
   ]
  },
  {
   "cell_type": "code",
   "execution_count": 64,
   "id": "1cc04561",
   "metadata": {},
   "outputs": [
    {
     "data": {
      "text/plain": [
       "<function TextIOWrapper.close()>"
      ]
     },
     "execution_count": 64,
     "metadata": {},
     "output_type": "execute_result"
    }
   ],
   "source": [
    "embeddings_index = dict()\n",
    "f = open('glove.42B.300d.txt')\n",
    "for line in f:\n",
    "    values = line.split()\n",
    "    word = values[0]\n",
    "    coefs =np.asarray (values[1:], dtype='float32')\n",
    "    embeddings_index[word] = coefs\n",
    "f.close"
   ]
  },
  {
   "cell_type": "code",
   "execution_count": 66,
   "id": "85fa0864",
   "metadata": {},
   "outputs": [
    {
     "data": {
      "text/plain": [
       "(7970, 300)"
      ]
     },
     "execution_count": 66,
     "metadata": {},
     "output_type": "execute_result"
    }
   ],
   "source": [
    "embedding_matrix = np.zeros((vocabWords,300))\n",
    "for word, index in tokenizer.word_index.items():\n",
    "    embedding_vector = embeddings_index.get(word)\n",
    "    if embedding_vector is not None:\n",
    "        embedding_matrix[index] = embedding_vector\n",
    "embedding_matrix.shape"
   ]
  },
  {
   "cell_type": "code",
   "execution_count": 65,
   "id": "be6c0bed",
   "metadata": {},
   "outputs": [
    {
     "name": "stdout",
     "output_type": "stream",
     "text": [
      "Loaded 1917494 word vectors.\n"
     ]
    }
   ],
   "source": [
    "print(\"Loaded %s word vectors.\" % len(embeddings_index))"
   ]
  },
  {
   "cell_type": "code",
   "execution_count": 338,
   "id": "e65f3fa1",
   "metadata": {},
   "outputs": [
    {
     "name": "stdout",
     "output_type": "stream",
     "text": [
      "Confusion Matrix\n",
      "[[106 129  37]\n",
      " [ 83 638 123]\n",
      " [ 49 197 190]]\n",
      "Test set Metrics\n",
      "              precision    recall  f1-score   support\n",
      "\n",
      "           0       0.45      0.39      0.42       272\n",
      "           1       0.66      0.76      0.71       844\n",
      "           2       0.54      0.44      0.48       436\n",
      "\n",
      "    accuracy                           0.60      1552\n",
      "   macro avg       0.55      0.53      0.53      1552\n",
      "weighted avg       0.59      0.60      0.59      1552\n",
      "\n",
      "None\n"
     ]
    },
    {
     "data": {
      "text/plain": [
       "<AxesSubplot:>"
      ]
     },
     "execution_count": 338,
     "metadata": {},
     "output_type": "execute_result"
    },
    {
     "data": {
      "image/png": "[encoded data removed]",
      "text/plain": [
       "<Figure size 432x288 with 1 Axes>"
      ]
     },
     "metadata": {},
     "output_type": "display_data"
    }
   ],
   "source": [
    "#CNN Model with learned embeddings\n",
    "model = Sequential()\n",
    "model.add(Embedding(vocabWords, 300, input_length = 20))\n",
    "model.add(Dropout(0.5))\n",
    "model.add(Conv1D(16,3,padding='valid',activation= 'relu'))\n",
    "model.add(MaxPooling1D())\n",
    "model.add(Dropout(0.5))\n",
    "model.add(Conv1D(16,3,padding='valid',activation= 'relu'))\n",
    "model.add(MaxPooling1D())\n",
    "model.add(Flatten())\n",
    "model.add(Dense(3, activation = 'softmax'))\n",
    "\n",
    "model.compile(loss='categorical_crossentropy', optimizer='adam', metrics=['accuracy'])\n",
    "#print(model.summary())\n",
    "\n",
    "model.fit(X_train, y_train, batch_size = 10, epochs = 30, validation_data = (X_test, y_test),verbose=0)\n",
    "\n",
    "print(neural_metrics(X_test,y_test))\n",
    "pd.DataFrame(history.history).plot()"
   ]
  },
  {
   "cell_type": "code",
   "execution_count": 175,
   "id": "a165182c",
   "metadata": {},
   "outputs": [
    {
     "name": "stdout",
     "output_type": "stream",
     "text": [
      "Confusion Matrix\n",
      "[[ 62 179  31]\n",
      " [ 17 768  59]\n",
      " [ 16 234 186]]\n",
      "Test set Metrics\n",
      "              precision    recall  f1-score   support\n",
      "\n",
      "           0       0.65      0.23      0.34       272\n",
      "           1       0.65      0.91      0.76       844\n",
      "           2       0.67      0.43      0.52       436\n",
      "\n",
      "    accuracy                           0.65      1552\n",
      "   macro avg       0.66      0.52      0.54      1552\n",
      "weighted avg       0.66      0.65      0.62      1552\n",
      "\n",
      "None\n"
     ]
    },
    {
     "data": {
      "text/plain": [
       "<AxesSubplot:>"
      ]
     },
     "execution_count": 175,
     "metadata": {},
     "output_type": "execute_result"
    },
    {
     "data": {
      "image/png": "[encoded data removed]",
      "text/plain": [
       "<Figure size 432x288 with 1 Axes>"
      ]
     },
     "metadata": {},
     "output_type": "display_data"
    }
   ],
   "source": [
    "#CNN Model with Glove embeddings\n",
    "model = Sequential()\n",
    "model.add(Embedding(vocabWords, 300, input_length = 20, weights= [embedding_matrix], trainable = False))\n",
    "model.add(Dropout(0.4))\n",
    "model.add(Conv1D(16,2,padding='valid',activation= 'relu'))\n",
    "model.add(MaxPooling1D())\n",
    "model.add(Dropout(0.4))\n",
    "model.add(Conv1D(16,2,padding='valid',activation= 'relu'))\n",
    "model.add(MaxPooling1D())\n",
    "model.add(Flatten())\n",
    "model.add(Dense(3, activation = 'softmax'))\n",
    "\n",
    "model.compile(loss='categorical_crossentropy', optimizer='adam', metrics=['accuracy'])\n",
    "#print(model.summary())\n",
    "\n",
    "history = model.fit(X_train, y_train, batch_size = 15, epochs = 35, validation_data = (X_test, y_test),verbose= 0)\n",
    "\n",
    "print(neural_metrics(X_test,y_test))\n",
    "pd.DataFrame(history.history).plot()"
   ]
  },
  {
   "cell_type": "code",
   "execution_count": 201,
   "id": "1aa9e8a7",
   "metadata": {},
   "outputs": [
    {
     "name": "stdout",
     "output_type": "stream",
     "text": [
      "Confusion Matrix\n",
      "[[139 117  16]\n",
      " [ 84 683  77]\n",
      " [ 56 175 205]]\n",
      "Test set Metrics\n",
      "              precision    recall  f1-score   support\n",
      "\n",
      "           0       0.50      0.51      0.50       272\n",
      "           1       0.70      0.81      0.75       844\n",
      "           2       0.69      0.47      0.56       436\n",
      "\n",
      "    accuracy                           0.66      1552\n",
      "   macro avg       0.63      0.60      0.60      1552\n",
      "weighted avg       0.66      0.66      0.65      1552\n",
      "\n",
      "None\n"
     ]
    },
    {
     "data": {
      "text/plain": [
       "<AxesSubplot:>"
      ]
     },
     "execution_count": 201,
     "metadata": {},
     "output_type": "execute_result"
    },
    {
     "data": {
      "image/png": "[encoded data removed]",
      "text/plain": [
       "<Figure size 432x288 with 1 Axes>"
      ]
     },
     "metadata": {},
     "output_type": "display_data"
    }
   ],
   "source": [
    "#LSTM Model with Glove Embeddings\n",
    "model = Sequential()\n",
    "model.add(Embedding(vocabWords, 300, input_length = 20, weights= [embedding_matrix], trainable = False))\n",
    "#model.add(LSTM(20,activation ='sigmoid',return_sequences=True))   Removed due to overfitting\n",
    "model.add(LSTM(20,activation ='sigmoid'))\n",
    "model.add(Dense(3, activation = 'softmax'))\n",
    "model.compile(loss='categorical_crossentropy', optimizer='adam', metrics=['accuracy'])\n",
    "#model.summary()\n",
    "\n",
    "history = model.fit(X_train, y_train, batch_size = 10, epochs = 25, validation_data = (X_test, y_test),verbose = 0)\n",
    "print(neural_metrics(X_test,y_test))\n",
    "pd.DataFrame(history.history).plot()"
   ]
  },
  {
   "cell_type": "code",
   "execution_count": 183,
   "id": "66c60ba2",
   "metadata": {},
   "outputs": [
    {
     "name": "stdout",
     "output_type": "stream",
     "text": [
      "Confusion Matrix\n",
      "[[121 122  29]\n",
      " [ 63 691  90]\n",
      " [ 46 174 216]]\n",
      "Test set Metrics\n",
      "              precision    recall  f1-score   support\n",
      "\n",
      "           0       0.53      0.44      0.48       272\n",
      "           1       0.70      0.82      0.75       844\n",
      "           2       0.64      0.50      0.56       436\n",
      "\n",
      "    accuracy                           0.66      1552\n",
      "   macro avg       0.62      0.59      0.60      1552\n",
      "weighted avg       0.65      0.66      0.65      1552\n",
      "\n",
      "None\n"
     ]
    },
    {
     "data": {
      "text/plain": [
       "<AxesSubplot:>"
      ]
     },
     "execution_count": 183,
     "metadata": {},
     "output_type": "execute_result"
    },
    {
     "data": {
      "image/png": "[encoded data removed]",
      "text/plain": [
       "<Figure size 432x288 with 1 Axes>"
      ]
     },
     "metadata": {},
     "output_type": "display_data"
    }
   ],
   "source": [
    "#Bidirectional LSTM Model\n",
    "model = Sequential()\n",
    "model.add(Embedding(vocabWords, 300, input_length = 20, weights= [embedding_matrix], trainable = False))\n",
    "model.add(Bidirectional(LSTM(5,activation ='relu')))#,return_sequences=True)))\n",
    "#model.add(LSTM(5,activation ='relu')) Removed due to overfitting\n",
    "model.add(Dense(3, activation = 'softmax'))\n",
    "model.compile(loss='categorical_crossentropy', optimizer='adam', metrics=['accuracy'])\n",
    "#print(model.summary())\n",
    "\n",
    "history = model.fit(X_train, y_train, batch_size = 10, epochs = 20, validation_data = (X_test, y_test),verbose = 0)\n",
    "print(neural_metrics(X_test,y_test))\n",
    "pd.DataFrame(history.history).plot()"
   ]
  }
 ],
 "metadata": {
  "kernelspec": {
   "display_name": "Python 3",
   "language": "python",
   "name": "python3"
  },
  "language_info": {
   "codemirror_mode": {
    "name": "ipython",
    "version": 3
   },
   "file_extension": ".py",
   "mimetype": "text/x-python",
   "name": "python",
   "nbconvert_exporter": "python",
   "pygments_lexer": "ipython3",
   "version": "3.8.8"
  }
 },
 "nbformat": 4,
 "nbformat_minor": 5
}
